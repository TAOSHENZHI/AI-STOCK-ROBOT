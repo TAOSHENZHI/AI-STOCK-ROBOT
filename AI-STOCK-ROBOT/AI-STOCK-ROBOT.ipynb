{
 "cells": [
  {
   "cell_type": "code",
   "execution_count": 1,
   "metadata": {},
   "outputs": [],
   "source": [
    "from iexfinance.stocks import Stock"
   ]
  },
  {
   "cell_type": "code",
   "execution_count": 2,
   "metadata": {},
   "outputs": [
    {
     "data": {
      "text/plain": [
       "<sqlite3.Cursor at 0x2a87bfc5180>"
      ]
     },
     "execution_count": 2,
     "metadata": {},
     "output_type": "execute_result"
    }
   ],
   "source": [
    "import sqlite3\n",
    "conn = sqlite3.connect('stocks.db')\n",
    "c = conn.cursor()\n",
    "c.execute(\"DROP TABLE stocks\")\n",
    "c.execute(\"CREATE TABLE IF NOT EXISTS stocks(symbol text, name text, sector text, volume text)\")\n",
    "c.execute(\"INSERT INTO stocks(symbol, name, sector, volume) VALUES('AAPL', 'Apple Inc.', 'Technology', 'hi')\")\n",
    "c.execute(\"INSERT INTO stocks(symbol, name, sector, volume) VALUES('AMZN', 'Amazon.com Inc.', 'Consumer Cyclical', 'mid')\")\n",
    "c.execute(\"INSERT INTO stocks(symbol, name, sector, volume) VALUES('GOOG', 'Alphabet Inc.', 'Technology', 'lo')\")\n",
    "c.execute(\"INSERT INTO stocks(symbol, name, sector, volume) VALUES('MSFT', 'Microsoft Corporation.', 'Technology', 'hi')\")\n",
    "c.execute(\"INSERT INTO stocks(symbol, name, sector, volume) VALUES('ORCL', 'Oracle Corporation', 'Technology', 'mid')\")\n",
    "c.execute(\"INSERT INTO stocks(symbol, name, sector, volume) VALUES('BABA', 'Alibaba Group Holding Limited', 'Consumer Cyclical', 'mid')\")\n",
    "c.execute(\"INSERT INTO stocks(symbol, name, sector, volume) VALUES('PHG', 'Koninklijke Philips N.V. NY Registry Shares', 'Healthcare', 'mid')\")\n",
    "c.execute(\"INSERT INTO stocks(symbol, name, sector, volume) VALUES('AABA', 'Altaba Inc.', 'Financial Services', 'lo')\")\n",
    "c.execute(\"commit\")"
   ]
  },
  {
   "cell_type": "code",
   "execution_count": 3,
   "metadata": {},
   "outputs": [],
   "source": [
    "def send_message(state, message):\n",
    "    global res\n",
    "    company = search(message)\n",
    "    print(\"USER : {}\".format(message))\n",
    "    new_state, response = respond(state, message)\n",
    "    print(\"BOT : {}\".format(response))\n",
    "    res = response\n",
    "    if(new_state == 2):\n",
    "        re = Stock(company,token=\"<YOUR AUTH TOKEN>\")\n",
    "        print(str(re.get_price()))\n",
    "        res = res + '\\n' + str(re.get_price())\n",
    "    if(new_state == 3):\n",
    "        print(respond_rasa(message))\n",
    "        res = res + '\\n' + respond_rasa(message)\n",
    "    return new_state\n",
    "\n",
    "def respond(state, message):\n",
    "    (new_state, response) = policy_rules[(state, interpret(message))]\n",
    "    return new_state, response\n",
    "\n",
    "\n",
    "def interpret(message):\n",
    "    msg = message.lower()\n",
    "    if 'inquire' in msg:\n",
    "        return 'inquire'\n",
    "    if 'aapl' in msg or 'amzn' in msg or 'goog' in msg or 'msft' in msg or 'orcl' in msg:\n",
    "        return 'specify_stock'\n",
    "    if 'baba' in msg or 'phg' in msg or 'aaba' in msg:\n",
    "        return 'specify_stock'\n",
    "    if 'what' in msg:\n",
    "        return 'ask_explanation'\n",
    "    if 'want' in msg:\n",
    "        return 'reinquire'\n",
    "    if 'thank' in msg or \"ok\" in msg or \"thanks\" in msg:\n",
    "        return 'thank'\n",
    "    return 'none'\n",
    "\n",
    "def search(message):\n",
    "    msg = message.lower()\n",
    "    if 'aapl' in msg:\n",
    "        return 'AAPL'\n",
    "    if 'amzn' in msg:\n",
    "        return 'AMZN'\n",
    "    if 'goog' in msg:\n",
    "        return 'GOOG'\n",
    "    if 'msft' in msg:\n",
    "        return 'MSFT'\n",
    "    if 'orcl' in msg:\n",
    "        return 'ORCL'\n",
    "    if 'baba' in msg:\n",
    "        return 'BABA'\n",
    "    if 'phg' in msg:\n",
    "        return 'PHG'\n",
    "    if 'aaba' in msg:\n",
    "        return 'AABA'"
   ]
  },
  {
   "cell_type": "code",
   "execution_count": 4,
   "metadata": {},
   "outputs": [
    {
     "name": "stderr",
     "output_type": "stream",
     "text": [
      "F:\\program\\lib\\site-packages\\rasa_nlu\\training_data\\training_data.py:191: UserWarning: Intent 'None' has only 1 training examples! Minimum is 2, training may fail.\n",
      "  self.MIN_EXAMPLES_PER_INTENT))\n",
      "F:\\program\\lib\\site-packages\\rasa_nlu\\training_data\\training_data.py:199: UserWarning: Entity 'area' has only 1 training examples! minimum is 2, training may fail.\n",
      "  self.MIN_EXAMPLES_PER_ENTITY))\n"
     ]
    },
    {
     "name": "stdout",
     "output_type": "stream",
     "text": [
      "Fitting 2 folds for each of 6 candidates, totalling 12 fits\n"
     ]
    },
    {
     "name": "stderr",
     "output_type": "stream",
     "text": [
      "[Parallel(n_jobs=1)]: Using backend SequentialBackend with 1 concurrent workers.\n",
      "[Parallel(n_jobs=1)]: Done  12 out of  12 | elapsed:    0.0s finished\n"
     ]
    }
   ],
   "source": [
    "# Import necessary modules\n",
    "from rasa_nlu.training_data import load_data\n",
    "from rasa_nlu.config import RasaNLUModelConfig\n",
    "from rasa_nlu.model import Trainer\n",
    "from rasa_nlu import config\n",
    "\n",
    "# Create a trainer that uses this config\n",
    "trainer = Trainer(config.load(\"config_spacy.yml\"))\n",
    "\n",
    "# Load the training data\n",
    "training_data = load_data('demo-rasa.json')\n",
    "\n",
    "# Create an interpreter by training the model\n",
    "interpreter = trainer.train(training_data)\n",
    "\n",
    "responses = [\n",
    "    \"I'm sorry :( I couldn't find anything like that\", \n",
    "    '{} is a optional stock!', \n",
    "    '{} or {} would work!', \n",
    "    '{} is one option, but I know others too :)'\n",
    "]"
   ]
  },
  {
   "cell_type": "code",
   "execution_count": 5,
   "metadata": {},
   "outputs": [],
   "source": [
    "# Define find_stocks()\n",
    "def find_stocks(params):\n",
    "    # Create the base query\n",
    "    query = 'SELECT * FROM stocks'\n",
    "    # Add filter clauses for each of the parameters\n",
    "    if len(params) > 0:\n",
    "        filters = [\"{}=?\".format(k) for k in params]\n",
    "        query += \" WHERE \" + \" AND \".join(filters)\n",
    "    # Create the tuple of values\n",
    "    t = tuple(params.values())\n",
    "    \n",
    "    # Open connection to DB\n",
    "    conn = sqlite3.connect(\"stocks.db\")\n",
    "    # Create a cursor\n",
    "    c = conn.cursor()\n",
    "    # Execute the query\n",
    "    c.execute(query,t)\n",
    "    # Return the results\n",
    "    return c.fetchall()"
   ]
  },
  {
   "cell_type": "code",
   "execution_count": 6,
   "metadata": {},
   "outputs": [
    {
     "name": "stdout",
     "output_type": "stream",
     "text": [
      "AAPL or MSFT would work!\n"
     ]
    }
   ],
   "source": [
    "# Define respond()\n",
    "def respond_rasa(message):\n",
    "    # Extract the entities\n",
    "    entities = interpreter.parse(message)[\"entities\"]\n",
    "    # Initialize an empty params dictionary\n",
    "    params = {}\n",
    "    # Fill the dictionary with entities\n",
    "    for ent in entities:\n",
    "        params[ent[\"entity\"]] = str(ent[\"value\"])\n",
    "    # Find hotels that match the dictionary\n",
    "    results = find_stocks(params)\n",
    "    # Get the names of the hotels and index of the response\n",
    "    names = [r[0] for r in results]\n",
    "    n = min(len(results),3)\n",
    "    # Select the nth element of the responses array\n",
    "    return responses[n].format(*names)\n",
    "\n",
    "print(respond_rasa(\"And I want an Technology stock in the high volume\"))"
   ]
  },
  {
   "cell_type": "code",
   "execution_count": 7,
   "metadata": {},
   "outputs": [
    {
     "name": "stdout",
     "output_type": "stream",
     "text": [
      "USER : what can you do for me?\n",
      "BOT : I'm a bot to help you get real-time stock imformation.\n",
      "USER : well then I'd like to inquire some stocks.\n",
      "BOT : Okay, which company's stock would you like to inquire?\n",
      "USER : what do you mean by that?\n",
      "BOT : There're thousands of datas in our database.You should tell me the company name which you want to inquire so that I can catch it pointedly.\n",
      "USER : GOOG\n",
      "BOT : perfect, the stocked inquired is shown below!\n",
      "1135.47\n",
      "USER : And I want an Technology stock in the high volume\n",
      "BOT : well, I see...\n",
      "AAPL or MSFT would work!\n",
      "USER : thanks\n",
      "BOT : see you later!\n"
     ]
    }
   ],
   "source": [
    "# Define the states\n",
    "INIT=0 \n",
    "CHOOSE_STOCK=1\n",
    "INQUIRED=2\n",
    "ANOTHER=3\n",
    "BYE=4\n",
    "\n",
    "res = ''\n",
    "global state\n",
    "state = INIT\n",
    "\n",
    "# Define the policy rules dictionary\n",
    "policy_rules = {\n",
    "    (INIT, \"ask_explanation\"): (INIT, \"I'm a bot to help you get real-time stock imformation.\"),\n",
    "    (INIT, \"inquire\"): (CHOOSE_STOCK, \"Okay, which company's stock would you like to inquire?\"),\n",
    "    (CHOOSE_STOCK, \"specify_stock\"): (INQUIRED, \"perfect, the stocked inquired is shown below!\"),\n",
    "    (CHOOSE_STOCK, \"ask_explanation\"): (CHOOSE_STOCK, \"There're thousands of datas in our database.You should tell me the company name which you want to inquire so that I can catch it pointedly.\"), \n",
    "    (INQUIRED, \"reinquire\"): (ANOTHER, \"well, I see...\"),\n",
    "    (ANOTHER, \"thank\"): (BYE, \"see you later!\")\n",
    "}\n",
    "\n",
    "# Define send_messages()\n",
    "def send_messages(messages):\n",
    "    global state\n",
    "    for msg in messages:\n",
    "        state = send_message(state, msg)\n",
    "\n",
    "# Send the messages\n",
    "send_messages([\n",
    "    \"what can you do for me?\",\n",
    "    \"well then I'd like to inquire some stocks.\",\n",
    "    \"what do you mean by that?\",\n",
    "    \"GOOG\",\n",
    "    \"And I want an Technology stock in the high volume\",\n",
    "    \"thanks\"\n",
    "])"
   ]
  },
  {
   "cell_type": "code",
   "execution_count": 8,
   "metadata": {},
   "outputs": [
    {
     "name": "stdout",
     "output_type": "stream",
     "text": [
      "█\r"
     ]
    }
   ],
   "source": [
    "from wxpy import *"
   ]
  },
  {
   "cell_type": "code",
   "execution_count": 9,
   "metadata": {},
   "outputs": [
    {
     "name": "stderr",
     "output_type": "stream",
     "text": [
      "Getting uuid of QR code.\n",
      "Downloading QR code.\n",
      "Please scan the QR code to log in.\n",
      "Please press confirm on your phone.\n",
      "Loading the contact, this may take a little while.\n",
      "Login successfully as tsz\n"
     ]
    }
   ],
   "source": [
    "bot = Bot()"
   ]
  },
  {
   "cell_type": "code",
   "execution_count": 10,
   "metadata": {},
   "outputs": [],
   "source": [
    "my_friend = bot.friends().search('My lord', sex=FEMALE, city=\"虹口\")[0]"
   ]
  },
  {
   "cell_type": "code",
   "execution_count": 11,
   "metadata": {},
   "outputs": [],
   "source": [
    "global state\n",
    "state = INIT"
   ]
  },
  {
   "cell_type": "code",
   "execution_count": 12,
   "metadata": {},
   "outputs": [
    {
     "name": "stdout",
     "output_type": "stream",
     "text": [
      "USER : What can you do for me?\n",
      "BOT : I'm a bot to help you get real-time stock imformation.\n",
      "USER : Well then I’d like to inquire some stocks.\n",
      "BOT : Okay, which company's stock would you like to inquire?\n",
      "USER : What do you mean by that?\n",
      "BOT : There're thousands of datas in our database.You should tell me the company name which you want to inquire so that I can catch it pointedly.\n",
      "USER : AAPL\n",
      "BOT : perfect, the stocked inquired is shown below!\n",
      "179.5\n",
      "USER : And I want an Technology stock in the high volume.\n",
      "BOT : well, I see...\n",
      "AAPL or MSFT would work!\n",
      "USER : Thanks\n",
      "BOT : see you later!\n"
     ]
    },
    {
     "name": "stderr",
     "output_type": "stream",
     "text": [
      "LOG OUT!\n"
     ]
    }
   ],
   "source": [
    "@bot.register(my_friend)\n",
    "def reply_my_friend(msg):\n",
    "    send_messages([msg.text])\n",
    "    return res"
   ]
  },
  {
   "cell_type": "code",
   "execution_count": null,
   "metadata": {},
   "outputs": [],
   "source": []
  }
 ],
 "metadata": {
  "kernelspec": {
   "display_name": "Python 3",
   "language": "python",
   "name": "python3"
  },
  "language_info": {
   "codemirror_mode": {
    "name": "ipython",
    "version": 3
   },
   "file_extension": ".py",
   "mimetype": "text/x-python",
   "name": "python",
   "nbconvert_exporter": "python",
   "pygments_lexer": "ipython3",
   "version": "3.7.1"
  }
 },
 "nbformat": 4,
 "nbformat_minor": 2
}
